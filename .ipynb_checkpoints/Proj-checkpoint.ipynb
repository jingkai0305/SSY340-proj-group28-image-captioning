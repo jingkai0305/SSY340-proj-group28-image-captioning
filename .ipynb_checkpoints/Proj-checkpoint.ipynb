{
 "cells": [
  {
   "cell_type": "markdown",
   "id": "37af7ffa",
   "metadata": {},
   "source": [
    "# Image Captioning project\n",
    "Build our first prototype model for Image captioning using structure combination of CNN and Transformer."
   ]
  },
  {
   "cell_type": "code",
   "execution_count": null,
   "id": "f916c16a",
   "metadata": {},
   "outputs": [],
   "source": [
    "name_1 = 'Qinghuan Liu'\n",
    "name_2 = 'Jingkai Zhou'\n",
    "name_3 = 'Chang Li'\n",
    "naem_4 = 'Yawen Liu'\n",
    "planning_group = '28'"
   ]
  },
  {
   "cell_type": "markdown",
   "id": "897a7210",
   "metadata": {},
   "source": [
    "---\n",
    "## 0. Import\n",
    "import possible files here:"
   ]
  },
  {
   "cell_type": "code",
   "execution_count": null,
   "id": "cf5757e4",
   "metadata": {},
   "outputs": [],
   "source": [
    "import pandas as pd\n",
    "import numpy as np\n",
    "import matplotlib.pyplot as plt\n",
    "\n",
    "%matplotlib inline\n"
   ]
  },
  {
   "cell_type": "markdown",
   "id": "2ca572b3",
   "metadata": {},
   "source": [
    "---\n",
    "## 1. Load dataset\n",
    "In this part, load and preprocess famous captioning dataset ['Flickr 8k Dataset'](https://www.kaggle.com/datasets/adityajn105/flickr8k). "
   ]
  },
  {
   "cell_type": "markdown",
   "id": "02912247",
   "metadata": {},
   "source": [
    "---\n",
    "### 1.1 Load dataset from disk and split into training / validation / test sets\n",
    "Since the size of our trainning archive is not relatively large, the ratio is chosen according to the technique [Data splitting technique to fit any Machine Learning Model](https://towardsdatascience.com/data-splitting-technique-to-fit-any-machine-learning-model-c0d7f3f1c790)"
   ]
  },
  {
   "cell_type": "code",
   "execution_count": 2,
   "id": "65e45686",
   "metadata": {},
   "outputs": [
    {
     "name": "stderr",
     "output_type": "stream",
     "text": [
      "C:\\Users\\jingkai\\.conda\\envs\\dml\\lib\\site-packages\\scipy\\__init__.py:146: UserWarning: A NumPy version >=1.16.5 and <1.23.0 is required for this version of SciPy (detected version 1.23.1\n",
      "  warnings.warn(f\"A NumPy version >={np_minversion} and <{np_maxversion}\"\n"
     ]
    }
   ],
   "source": [
    "from pathlib import Path\n",
    "# Some file system operation are not covered by 'Path' and we use 'shutil' for that\n",
    "import shutil\n",
    "\n",
    "# Regular expressions are used to find patterns in strings\n",
    "import re\n",
    "\n",
    "# For splitting the data\n",
    "from sklearn.model_selection import train_test_split\n",
    "\n",
    "split_ratio_dataset = 0.3\n",
    "\n"
   ]
  },
  {
   "cell_type": "markdown",
   "id": "930e5f91",
   "metadata": {},
   "source": [
    "Statistical information on dataset:"
   ]
  },
  {
   "cell_type": "code",
   "execution_count": 4,
   "id": "ddc13be9",
   "metadata": {},
   "outputs": [
    {
     "name": "stdout",
     "output_type": "stream",
     "text": [
      "8091\n",
      "G:\\GitHub\\Deep_Learning_Proj\\archive\\Images\\1000268201_693b08cb0e.jpg\n"
     ]
    }
   ],
   "source": [
    "# Path to Flickr8K_ photos\n",
    "path_Flickr_jpg = \"G:/GitHub/Deep_Learning_Proj/archive/Images\"\n",
    "# Path to caption file\n",
    "path_Flickr_text = \"G:/GitHub/Deep_Learning_Proj/archive/captions.txt\"\n",
    "\n",
    "image_all = Path.cwd() / \"G:/GitHub/Deep_Learning_Proj/archive/Images/\"\n",
    "\n",
    "all_image_filenames = list(image_all.glob(\"*.jpg\"))\n",
    "\n",
    "print(len(all_image_filenames))\n",
    "print(all_image_filenames[0])"
   ]
  },
  {
   "cell_type": "code",
   "execution_count": null,
   "id": "0e123327",
   "metadata": {},
   "outputs": [],
   "source": []
  }
 ],
 "metadata": {
  "kernelspec": {
   "display_name": "Python 3 (ipykernel)",
   "language": "python",
   "name": "python3"
  },
  "language_info": {
   "codemirror_mode": {
    "name": "ipython",
    "version": 3
   },
   "file_extension": ".py",
   "mimetype": "text/x-python",
   "name": "python",
   "nbconvert_exporter": "python",
   "pygments_lexer": "ipython3",
   "version": "3.9.13"
  }
 },
 "nbformat": 4,
 "nbformat_minor": 5
}
