{
 "cells": [
  {
   "cell_type": "code",
   "execution_count": 4,
   "id": "66d7202f",
   "metadata": {},
   "outputs": [],
   "source": [
    "import os\n",
    "\n",
    "\n",
    "with open('captions.txt') as f:\n",
    "    lines = f.readlines() # captions\n",
    "    \n",
    "\n",
    "    \n",
    "    \n",
    "### split caption_train\n",
    "filenames_train = os.listdir(\"./image_train/\")\n",
    "\n",
    "txt_train = ['image,caption\\n']\n",
    "for fn in filenames_train:\n",
    "    for idx, line in enumerate(lines):\n",
    "        if fn == line.split(',')[0]:\n",
    "            txt_train.append(line)\n",
    "            \n",
    "\n",
    "with open('cap_train.txt', 'w') as f_w_train:\n",
    "    for t in txt_train:\n",
    "        f_w_train.write(t)\n",
    "        \n",
    "        \n",
    "        \n",
    "### split caption_val\n",
    "filenames_val = os.listdir(\"./image_val/\")\n",
    "\n",
    "txt_val = ['image,caption\\n']\n",
    "for fn in filenames_val:\n",
    "    for idx, line in enumerate(lines):\n",
    "        if fn == line.split(',')[0]:\n",
    "            txt_val.append(line)\n",
    "            \n",
    "\n",
    "with open('cap_val.txt', 'w') as f_w_val:\n",
    "    for t in txt_val:\n",
    "        f_w_val.write(t)"
   ]
  },
  {
   "cell_type": "code",
   "execution_count": null,
   "id": "1efda0b0",
   "metadata": {},
   "outputs": [],
   "source": []
  }
 ],
 "metadata": {
  "kernelspec": {
   "display_name": "Python 3 (ipykernel)",
   "language": "python",
   "name": "python3"
  },
  "language_info": {
   "codemirror_mode": {
    "name": "ipython",
    "version": 3
   },
   "file_extension": ".py",
   "mimetype": "text/x-python",
   "name": "python",
   "nbconvert_exporter": "python",
   "pygments_lexer": "ipython3",
   "version": "3.9.7"
  }
 },
 "nbformat": 4,
 "nbformat_minor": 5
}
